{
 "cells": [
  {
   "cell_type": "code",
   "execution_count": 1,
   "metadata": {},
   "outputs": [
    {
     "name": "stderr",
     "output_type": "stream",
     "text": [
      "C:\\ProgramData\\Anaconda3\\lib\\site-packages\\sklearn\\externals\\six.py:31: FutureWarning: The module is deprecated in version 0.21 and will be removed in version 0.23 since we've dropped support for Python 2.7. Please rely on the official version of six (https://pypi.org/project/six/).\n",
      "  \"(https://pypi.org/project/six/).\", FutureWarning)\n"
     ]
    }
   ],
   "source": [
    "import pandas as pd\n",
    "import numpy as np\n",
    "import matplotlib.pyplot as plt \n",
    "from sklearn.tree import DecisionTreeRegressor\n",
    "from sklearn import linear_model\n",
    "import seaborn as sns\n",
    "import statsmodels.api as sm\n",
    "from sklearn.model_selection import train_test_split\n",
    "from sklearn.linear_model import LinearRegression\n",
    "from sklearn.feature_selection import RFE\n",
    "from sklearn.linear_model import RidgeCV, LassoCV, Ridge, Lasso\n",
    "from sklearn.metrics import mean_squared_error,r2_score, mean_absolute_error\n",
    "from sklearn.externals.six import StringIO  \n",
    "from IPython.display import Image  \n",
    "from sklearn.tree import export_graphviz\n",
    "import pydotplus\n",
    "\n",
    "%matplotlib inline"
   ]
  },
  {
   "cell_type": "code",
   "execution_count": 2,
   "metadata": {},
   "outputs": [],
   "source": [
    "#import data\n",
    "data = pd.read_csv('Generated Data/final_data.csv', encoding='utf-8')\n",
    "delete_columns = ['Name','fail_count','Median response time','D11','Hatch Rate','Time', 'variant_cost_hr']\n",
    "data = data.drop(delete_columns, axis=1)"
   ]
  },
  {
   "cell_type": "code",
   "execution_count": 3,
   "metadata": {},
   "outputs": [],
   "source": [
    "def get_structured_data(data,label):\n",
    "    #provides the final structured data for modeling \n",
    "    features = data.iloc[:,[x for x in range(10,24)]]\n",
    "    target = data[label]\n",
    "    structured_data = pd.concat([features, target], axis=1, sort=False)\n",
    "    structured_data = remove_duplicates(structured_data)\n",
    "    return structured_data\n",
    "\n",
    "def remove_duplicates(data):\n",
    "    data = data.drop_duplicates(subset=['request category','D1(Small), D2(Medium)', 'D3', 'D4', 'D5(Small)', 'D6(Large)', 'D7',\n",
    "       'D8', 'D9', 'D10', 'D12(Small), D13(Medium)', 'D14', 'D15', 'D16'])\n",
    "    return data\n"
   ]
  },
  {
   "cell_type": "markdown",
   "metadata": {},
   "source": [
    "## Feature Selection"
   ]
  },
  {
   "cell_type": "code",
   "execution_count": 16,
   "metadata": {},
   "outputs": [],
   "source": [
    "#Train-test split\n",
    "structured_data =  get_structured_data(data, \"mean_rt\")\n",
    "\n",
    "X = structured_data.iloc[:, 0:14]  #Feature Matrix\n",
    "y = structured_data.iloc[:, -1] #Target Variable\n"
   ]
  },
  {
   "cell_type": "code",
   "execution_count": 15,
   "metadata": {},
   "outputs": [
    {
     "name": "stdout",
     "output_type": "stream",
     "text": [
      "R-Square:  0.7807941280229136\n",
      "MSE:  17367294.866666667\n"
     ]
    }
   ],
   "source": [
    "#Base Model\n",
    "def base_DTR(X,y):\n",
    "    X_train, X_test, y_train, y_test = train_test_split(X, y, test_size=0.3)\n",
    "    base_DTR = DecisionTreeRegressor()\n",
    "    base_DTR.fit(X_train, y_train)\n",
    "\n",
    "    #Score\n",
    "    y_predicted = base_DTR.predict(X_test)\n",
    "    r2_score_x = r2_score(y_test, y_predicted)\n",
    "    print('R-Square: ', r2_score_x)\n",
    "    print('MSE: ', mean_squared_error(y_test,y_predicted))\n",
    "base_DTR(X,y)"
   ]
  },
  {
   "cell_type": "markdown",
   "metadata": {},
   "source": [
    "### Backward elimination"
   ]
  },
  {
   "cell_type": "markdown",
   "metadata": {},
   "source": [
    "#### Selected Choice!"
   ]
  },
  {
   "cell_type": "code",
   "execution_count": 63,
   "metadata": {},
   "outputs": [
    {
     "name": "stdout",
     "output_type": "stream",
     "text": [
      "['request category', 'D1(Small), D2(Medium)', 'D3', 'D4', 'D6(Large)', 'D7', 'D8']\n"
     ]
    },
    {
     "name": "stderr",
     "output_type": "stream",
     "text": [
      "C:\\ProgramData\\Anaconda3\\lib\\site-packages\\numpy\\core\\fromnumeric.py:2542: FutureWarning: Method .ptp is deprecated and will be removed in a future version. Use numpy.ptp instead.\n",
      "  return ptp(axis=axis, out=out, **kwargs)\n"
     ]
    }
   ],
   "source": [
    "#Backward Elimination\n",
    "cols = list(X.columns)\n",
    "pmax = 1\n",
    "while (len(cols)>0):\n",
    "    p= []\n",
    "    X_1 = X[cols]\n",
    "    X_1 = sm.add_constant(X_1)\n",
    "    model = sm.OLS(y,X_1).fit()\n",
    "    p = pd.Series(model.pvalues.values[1:],index = cols)      \n",
    "    pmax = max(p)\n",
    "    feature_with_p_max = p.idxmax()\n",
    "    if(pmax>0.05):\n",
    "        cols.remove(feature_with_p_max)\n",
    "    else:\n",
    "        break\n",
    "selected_features_BE = cols\n",
    "print(selected_features_BE)"
   ]
  },
  {
   "cell_type": "markdown",
   "metadata": {},
   "source": [
    "## Decision Tree Regressor"
   ]
  },
  {
   "cell_type": "code",
   "execution_count": 64,
   "metadata": {},
   "outputs": [],
   "source": [
    "def param_tuningDTR(X,y):\n",
    "    #returns the best params\n",
    "    crit = []\n",
    "    spli = []\n",
    "    dep = []\n",
    "    r2scr = []\n",
    "    r2scr_nrn = []\n",
    "    \n",
    "    X_train, X_test, y_train, y_test = train_test_split(X, y, test_size=0.7, random_state=42)\n",
    "\n",
    "\n",
    "    dept_df = pd.DataFrame()\n",
    "    dept_df['y'] = y_test.to_list()\n",
    " \n",
    "    criterion = ['mse','friedman_mse','mae']\n",
    "    for cr in criterion:\n",
    "        split = ['random', 'best']\n",
    "        for sp in split:\n",
    "            depth = [2,4,6,8,10]\n",
    "            for m in depth:\n",
    "\n",
    "                mlregr = DecisionTreeRegressor(criterion=cr, splitter=sp, max_depth=m, max_features='auto')\n",
    "                mlregr.fit(X_train, y_train)\n",
    "\n",
    "                #Score\n",
    "                model_score = mlregr.score(X_train,y_train)\n",
    "                y_predicted = mlregr.predict(X_test)\n",
    "                crit.append(cr)\n",
    "                spli.append(sp)\n",
    "                dep.append(m)\n",
    "                r2_score_x = r2_score(y_test, y_predicted)\n",
    "                r2scr.append(r2_score_x)\n",
    "                dept_df[\"depth(\"+str(m)+\")\"] = y_predicted.tolist()\n",
    "\n",
    "    history = pd.DataFrame(list(zip(crit, spli, dep, r2scr)), \n",
    "                   columns =['criterion', 'splitter', 'max_depth', 'r2_score'])\n",
    "    best_params = history.iloc[history['r2_score'].idxmax()]\n",
    "    \n",
    "    return best_params, dept_df, depth"
   ]
  },
  {
   "cell_type": "code",
   "execution_count": 65,
   "metadata": {},
   "outputs": [],
   "source": [
    "def trainsize_gridsearch(X, y, best_params):\n",
    "    \n",
    "    scores = []\n",
    "    sizes = [0.1,0.2,0.3,0.4,0.5]\n",
    "\n",
    "    for size in sizes:\n",
    "        XX_train, XX_test, yy_train, yy_test = train_test_split(X, y, test_size=size, random_state=42)\n",
    "\n",
    "        mlregr_final = DecisionTreeRegressor(criterion=str(best_params[0]), splitter=best_params[1], max_depth=best_params[2], \n",
    "                                             max_features='auto')\n",
    "        mlregr_final.fit(XX_train, yy_train)\n",
    "\n",
    "        #Score\n",
    "        model_score = mlregr_final.score(XX_train, yy_train)\n",
    "        y_pred = mlregr_final.predict(XX_test)\n",
    "        scores.append(round(r2_score(yy_test, y_pred),2))\n",
    "    size_score = pd.DataFrame(list(zip([1-s for s in sizes], scores)), columns=['train_size','r2_score'])\n",
    "    \n",
    "    return size_score"
   ]
  },
  {
   "cell_type": "code",
   "execution_count": 74,
   "metadata": {},
   "outputs": [],
   "source": [
    "best_params, dept_df, depth = param_tuningDTR(X,y)\n",
    "size_score = trainsize_gridsearch(X, y, best_params)\n",
    "size_score = size_score.iloc[size_score['r2_score'].idxmax()]\n",
    "best_train_size = round(1-size_score[0],2)"
   ]
  },
  {
   "cell_type": "code",
   "execution_count": 75,
   "metadata": {},
   "outputs": [
    {
     "name": "stdout",
     "output_type": "stream",
     "text": [
      "Model Score:  1.0\n",
      "R-squared score:  0.843\n"
     ]
    }
   ],
   "source": [
    "X_train, X_test, y_train, y_test = train_test_split(X, y, test_size=best_train_size, random_state=42)\n",
    "mlregr_final = DecisionTreeRegressor(criterion=str(best_params[0]), splitter=best_params[1], max_depth=int(best_params[2]), \n",
    "                                         max_features='auto')\n",
    "mlregr_final.fit(X_train, y_train)\n",
    "\n",
    "#Score\n",
    "model_score = mlregr_final.score(X_train, y_train)\n",
    "y_pred = mlregr_final.predict(X_test)\n",
    "\n",
    "print(\"Model Score: \", round(model_score,2))\n",
    "print(\"R-squared score: \", round(r2_score(y_test,y_pred),3))"
   ]
  },
  {
   "cell_type": "code",
   "execution_count": 76,
   "metadata": {},
   "outputs": [
    {
     "name": "stdout",
     "output_type": "stream",
     "text": [
      "Fine tuned Parameters:\n",
      "  <bound method BaseEstimator.get_params of DecisionTreeRegressor(ccp_alpha=0.0, criterion='mae', max_depth=10,\n",
      "                      max_features='auto', max_leaf_nodes=None,\n",
      "                      min_impurity_decrease=0.0, min_impurity_split=None,\n",
      "                      min_samples_leaf=1, min_samples_split=2,\n",
      "                      min_weight_fraction_leaf=0.0, presort='deprecated',\n",
      "                      random_state=None, splitter='best')>\n"
     ]
    }
   ],
   "source": [
    "print(\"Fine tuned Parameters:\\n \",mlregr_final.get_params)"
   ]
  },
  {
   "cell_type": "code",
   "execution_count": 69,
   "metadata": {},
   "outputs": [],
   "source": [
    "#Visualize DTR  model tree\n",
    "# dot_data = StringIO()\n",
    "# export_graphviz(mlregr_final, out_file=dot_data,  \n",
    "#                 filled=True, rounded=True,\n",
    "#                 special_characters=True)\n",
    "# graph = pydotplus.graph_from_dot_data(dot_data.getvalue())  \n",
    "# Image(graph.create_png())"
   ]
  },
  {
   "cell_type": "code",
   "execution_count": 77,
   "metadata": {},
   "outputs": [
    {
     "data": {
      "image/png": "[encoded data removed]",
      "text/plain": [
       "<Figure size 720x432 with 1 Axes>"
      ]
     },
     "metadata": {
      "needs_background": "light"
     },
     "output_type": "display_data"
    }
   ],
   "source": [
    "y_pred = mlregr_final.predict(X_test)\n",
    "df = pd.DataFrame({'Actual': y_test, 'Predicted': y_pred.flatten()})\n",
    "df1 = df.head(20)\n",
    "df1.plot(kind='bar',figsize=(10,6))\n",
    "plt.grid(which='major', linestyle='-', linewidth='0.5', color='green')\n",
    "plt.grid(which='minor', linestyle=':', linewidth='0.5', color='black')\n",
    "plt.show()"
   ]
  },
  {
   "cell_type": "code",
   "execution_count": 78,
   "metadata": {},
   "outputs": [
    {
     "data": {
      "image/png": "[encoded data removed]",
      "text/plain": [
       "<Figure size 720x432 with 1 Axes>"
      ]
     },
     "metadata": {
      "needs_background": "light"
     },
     "output_type": "display_data"
    }
   ],
   "source": [
    "plt.figure(figsize=(10,6))\n",
    "ax1 = sns.distplot(dept_df['y'], hist=False, color='r', kde_kws={'linewidth':3},  label=\"Actual Value\", )\n",
    "\n",
    "for x in depth:\n",
    "    sns.distplot(dept_df[\"depth(\"+str(x)+\")\"], hist=False, kde_kws={'linestyle':'-.'}, label=\"Depth \"+str(x))\n",
    "sns.distplot(dept_df[\"depth(\"+str(int(best_params[2]))+\")\"], hist=False, color='b', kde_kws={'linewidth':5}, label=\"Chosen Depth \"+str(int(best_params[2])))\n",
    "plt.xlabel(\"Predicted Mean RT\")\n",
    "plt.ylabel(\"\")\n",
    "plt.title('Prediction accuracy between tree depth')\n",
    "#plt.savefig(\"DTR_depth.png\")\n",
    "plt.show()"
   ]
  },
  {
   "cell_type": "code",
   "execution_count": null,
   "metadata": {},
   "outputs": [],
   "source": []
  }
 ],
 "metadata": {
  "kernelspec": {
   "display_name": "Python 3",
   "language": "python",
   "name": "python3"
  },
  "language_info": {
   "codemirror_mode": {
    "name": "ipython",
    "version": 3
   },
   "file_extension": ".py",
   "mimetype": "text/x-python",
   "name": "python",
   "nbconvert_exporter": "python",
   "pygments_lexer": "ipython3",
   "version": "3.6.10"
  }
 },
 "nbformat": 4,
 "nbformat_minor": 4
}
