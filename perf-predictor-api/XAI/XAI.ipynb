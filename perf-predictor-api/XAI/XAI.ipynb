{
 "metadata": {
  "language_info": {
   "codemirror_mode": {
    "name": "ipython",
    "version": 3
   },
   "file_extension": ".py",
   "mimetype": "text/x-python",
   "name": "python",
   "nbconvert_exporter": "python",
   "pygments_lexer": "ipython3",
   "version": "3.8.3-final"
  },
  "orig_nbformat": 2,
  "kernelspec": {
   "name": "python3",
   "display_name": "Python 3.8.3 64-bit ('base': conda)",
   "metadata": {
    "interpreter": {
     "hash": "4db5dd7c5a8fd140e570799b0de5151a571f70d7aa80160a062b268d2a8659ba"
    }
   }
  }
 },
 "nbformat": 4,
 "nbformat_minor": 2,
 "cells": [
  {
   "cell_type": "code",
   "execution_count": null,
   "metadata": {},
   "outputs": [],
   "source": [
    "import json\n",
    "\n",
    "import utils.DTR as dtr_model\n",
    "import utils.MLPNN as mlp_model\n",
    "from utils.db_util import create_variant_table, add_data_records, read_data_records, drop_variant_table\n",
    "import sklearn\n",
    "from sklearn import metrics\n",
    "import pandas as pd\n",
    "import numpy as np\n",
    "import utils\n"
   ]
  },
  {
   "cell_type": "code",
   "execution_count": null,
   "metadata": {},
   "outputs": [],
   "source": [
    "#\n",
    "def local_plot(explainer, shap_values, feature_names, chosen_sample, estimand_name, X_test, y_test, plot_type='force_plot'):\n",
    "    if plot_type == 'force_plot':\n",
    "        h = shap.force_plot(\n",
    "        base_value= explainer.expected_value,\n",
    "        shap_values=shap_values[chosen_sample],\n",
    "        features=X_test[chosen_sample],\n",
    "        feature_names=feature_names,\n",
    "        link=\"identity\",\n",
    "        out_names = estimand_name,\n",
    "        matplotlib=True)\n",
    "    elif plot_type == 'decision_plot':    \n",
    "        h = shap.decision_plot(\n",
    "        base_value=explainer.expected_value,\n",
    "        shap_values=shap_values[chosen_sample],\n",
    "        features=X_test[chosen_sample],\n",
    "        feature_names=feature_names,\n",
    "        link=\"identity\",\n",
    "        )\n",
    "    return h"
   ]
  },
  {
   "cell_type": "code",
   "execution_count": null,
   "metadata": {},
   "outputs": [],
   "source": [
    "def global_plot(explainer, shap_values, X_test, y_test, feature_names, plot_type='dot'):\n",
    "    if plot_type == 'force_plot':\n",
    "        h = shap.force_plot(\n",
    "        base_value= explainer.expected_value,\n",
    "        shap_values=shap_values,\n",
    "        features=X_test,\n",
    "        feature_names=feature_names,\n",
    "        link=\"identity\")\n",
    "    else:\n",
    "        h = shap.summary_plot(\n",
    "        shap_values = shap_values, \n",
    "        features = X_test, \n",
    "        max_display=20, \n",
    "        feature_names= feature_names,\n",
    "        plot_type= plot_type)\n",
    "\n",
    "    return h\n"
   ]
  },
  {
   "cell_type": "code",
   "execution_count": null,
   "metadata": {
    "tags": []
   },
   "outputs": [],
   "source": [
    "df = pd.read_json('testResources/data.json') \n",
    "import utils.RTFR as RTFR\n",
    "X_train, X_test, y_train, y_test = RTFR.TestingFunc(df)\n"
   ]
  },
  {
   "cell_type": "code",
   "execution_count": null,
   "metadata": {},
   "outputs": [],
   "source": [
    "import utils.RTFR as RTFR\n",
    "\n",
    "json_out, rfReg, X_train, X_test, y_train, y_test = RTFR.train(df)\n",
    "\n",
    "y_train = y_train.values\n",
    "y_test = y_test.values\n",
    "X_train = X_train.values\n",
    "X_test = X_test.values\n",
    "\n",
    "print(json_out)"
   ]
  },
  {
   "cell_type": "code",
   "execution_count": null,
   "metadata": {
    "tags": []
   },
   "outputs": [],
   "source": [
    "import shap\n",
    "\n",
    "shap.initjs()\n",
    "\n",
    "explainer = shap.TreeExplainer(model = rfReg, model_output='margin')\n",
    "shap_values = explainer.shap_values(X_test)\n",
    "\n"
   ]
  },
  {
   "cell_type": "code",
   "execution_count": null,
   "metadata": {},
   "outputs": [],
   "source": [
    "chosen_sample = 5\n",
    "\n",
    "local_plot(explainer, shap_values, df.columns.to_list()[:14], chosen_sample, \"Response Time\", X_test, y_test, plot_type='force_plot')"
   ]
  },
  {
   "cell_type": "code",
   "execution_count": null,
   "metadata": {},
   "outputs": [],
   "source": [
    "global_plot(explainer, shap_values, X_test, y_test, df.columns.to_list()[:14], plot_type='dot')"
   ]
  },
  {
   "cell_type": "code",
   "execution_count": null,
   "metadata": {},
   "outputs": [],
   "source": [
    "global_plot(explainer, shap_values, X_test, y_test, df.columns.to_list()[:14], plot_type='dot')"
   ]
  }
 ]
}